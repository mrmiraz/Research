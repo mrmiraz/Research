{
 "cells": [
  {
   "cell_type": "code",
   "execution_count": 1,
   "id": "fb00fd07",
   "metadata": {},
   "outputs": [],
   "source": [
    "import pandas as pd\n",
    "from sklearn.linear_model import LinearRegression"
   ]
  },
  {
   "cell_type": "code",
   "execution_count": 2,
   "id": "807e423e",
   "metadata": {},
   "outputs": [],
   "source": [
    "df_glucose = pd.read_excel('glucose.xlsx')"
   ]
  },
  {
   "cell_type": "code",
   "execution_count": 3,
   "id": "061b1e03",
   "metadata": {},
   "outputs": [
    {
     "data": {
      "text/html": [
       "<div>\n",
       "<style scoped>\n",
       "    .dataframe tbody tr th:only-of-type {\n",
       "        vertical-align: middle;\n",
       "    }\n",
       "\n",
       "    .dataframe tbody tr th {\n",
       "        vertical-align: top;\n",
       "    }\n",
       "\n",
       "    .dataframe thead th {\n",
       "        text-align: right;\n",
       "    }\n",
       "</style>\n",
       "<table border=\"1\" class=\"dataframe\">\n",
       "  <thead>\n",
       "    <tr style=\"text-align: right;\">\n",
       "      <th></th>\n",
       "      <th>subject</th>\n",
       "      <th>age</th>\n",
       "      <th>glucose_level</th>\n",
       "    </tr>\n",
       "  </thead>\n",
       "  <tbody>\n",
       "    <tr>\n",
       "      <th>0</th>\n",
       "      <td>1</td>\n",
       "      <td>43</td>\n",
       "      <td>99</td>\n",
       "    </tr>\n",
       "    <tr>\n",
       "      <th>1</th>\n",
       "      <td>2</td>\n",
       "      <td>21</td>\n",
       "      <td>65</td>\n",
       "    </tr>\n",
       "    <tr>\n",
       "      <th>2</th>\n",
       "      <td>3</td>\n",
       "      <td>21</td>\n",
       "      <td>79</td>\n",
       "    </tr>\n",
       "    <tr>\n",
       "      <th>3</th>\n",
       "      <td>4</td>\n",
       "      <td>42</td>\n",
       "      <td>75</td>\n",
       "    </tr>\n",
       "    <tr>\n",
       "      <th>4</th>\n",
       "      <td>5</td>\n",
       "      <td>57</td>\n",
       "      <td>87</td>\n",
       "    </tr>\n",
       "  </tbody>\n",
       "</table>\n",
       "</div>"
      ],
      "text/plain": [
       "   subject  age  glucose_level\n",
       "0        1   43             99\n",
       "1        2   21             65\n",
       "2        3   21             79\n",
       "3        4   42             75\n",
       "4        5   57             87"
      ]
     },
     "execution_count": 3,
     "metadata": {},
     "output_type": "execute_result"
    }
   ],
   "source": [
    "df_glucose.head()"
   ]
  },
  {
   "cell_type": "code",
   "execution_count": 4,
   "id": "bbfd6b8f",
   "metadata": {},
   "outputs": [
    {
     "data": {
      "text/plain": [
       "Index(['subject', 'age', 'glucose_level'], dtype='object')"
      ]
     },
     "execution_count": 4,
     "metadata": {},
     "output_type": "execute_result"
    }
   ],
   "source": [
    "df_glucose.columns"
   ]
  },
  {
   "cell_type": "code",
   "execution_count": 5,
   "id": "7f045cca",
   "metadata": {},
   "outputs": [],
   "source": [
    "lr = LinearRegression()\n",
    "linear_model = lr.fit(df_glucose[['age']], df_glucose.glucose_level)"
   ]
  },
  {
   "cell_type": "code",
   "execution_count": 6,
   "id": "821181bf",
   "metadata": {},
   "outputs": [
    {
     "data": {
      "text/plain": [
       "0.2602492793991905"
      ]
     },
     "execution_count": 6,
     "metadata": {},
     "output_type": "execute_result"
    }
   ],
   "source": [
    "linear_model.score(df_glucose[['age']],df_glucose.glucose_level)"
   ]
  },
  {
   "cell_type": "code",
   "execution_count": 42,
   "id": "79d49911",
   "metadata": {},
   "outputs": [
    {
     "data": {
      "text/plain": [
       "array([[  1.],\n",
       "       [  2.],\n",
       "       [  3.],\n",
       "       [  4.],\n",
       "       [  5.],\n",
       "       [  6.],\n",
       "       [  7.],\n",
       "       [  8.],\n",
       "       [  9.],\n",
       "       [ 10.],\n",
       "       [ 11.],\n",
       "       [ 12.],\n",
       "       [ 13.],\n",
       "       [ 14.],\n",
       "       [ 15.],\n",
       "       [ 16.],\n",
       "       [ 17.],\n",
       "       [ 18.],\n",
       "       [ 19.],\n",
       "       [ 20.],\n",
       "       [ 21.],\n",
       "       [ 22.],\n",
       "       [ 23.],\n",
       "       [ 24.],\n",
       "       [ 25.],\n",
       "       [ 26.],\n",
       "       [ 27.],\n",
       "       [ 28.],\n",
       "       [ 29.],\n",
       "       [ 30.],\n",
       "       [ 31.],\n",
       "       [ 32.],\n",
       "       [ 33.],\n",
       "       [ 34.],\n",
       "       [ 35.],\n",
       "       [ 36.],\n",
       "       [ 37.],\n",
       "       [ 38.],\n",
       "       [ 39.],\n",
       "       [ 40.],\n",
       "       [ 41.],\n",
       "       [ 42.],\n",
       "       [ 43.],\n",
       "       [ 44.],\n",
       "       [ 45.],\n",
       "       [ 46.],\n",
       "       [ 47.],\n",
       "       [ 48.],\n",
       "       [ 49.],\n",
       "       [ 50.],\n",
       "       [ 51.],\n",
       "       [ 52.],\n",
       "       [ 53.],\n",
       "       [ 54.],\n",
       "       [ 55.],\n",
       "       [ 56.],\n",
       "       [ 57.],\n",
       "       [ 58.],\n",
       "       [ 59.],\n",
       "       [ 60.],\n",
       "       [ 61.],\n",
       "       [ 62.],\n",
       "       [ 63.],\n",
       "       [ 64.],\n",
       "       [ 65.],\n",
       "       [ 66.],\n",
       "       [ 67.],\n",
       "       [ 68.],\n",
       "       [ 69.],\n",
       "       [ 70.],\n",
       "       [ 71.],\n",
       "       [ 72.],\n",
       "       [ 73.],\n",
       "       [ 74.],\n",
       "       [ 75.],\n",
       "       [ 76.],\n",
       "       [ 77.],\n",
       "       [ 78.],\n",
       "       [ 79.],\n",
       "       [ 80.],\n",
       "       [ 81.],\n",
       "       [ 82.],\n",
       "       [ 83.],\n",
       "       [ 84.],\n",
       "       [ 85.],\n",
       "       [ 86.],\n",
       "       [ 87.],\n",
       "       [ 88.],\n",
       "       [ 89.],\n",
       "       [ 90.],\n",
       "       [ 91.],\n",
       "       [ 92.],\n",
       "       [ 93.],\n",
       "       [ 94.],\n",
       "       [ 95.],\n",
       "       [ 96.],\n",
       "       [ 97.],\n",
       "       [ 98.],\n",
       "       [ 99.],\n",
       "       [100.]])"
      ]
     },
     "execution_count": 42,
     "metadata": {},
     "output_type": "execute_result"
    }
   ],
   "source": [
    "import numpy as np\n",
    "predict_age = np.linspace(1, 100, 100).reshape(100, 1)\n",
    "predict_age"
   ]
  },
  {
   "cell_type": "code",
   "execution_count": 60,
   "id": "b21b45b7",
   "metadata": {},
   "outputs": [],
   "source": [
    "predicted_glu = pd.DataFrame(linear_model.predict(predict_age), columns = ['glucose'])\n",
    "predicted_glu['age'] = predict_age\n",
    "predicted_glu.to_csv('smaple.csv')"
   ]
  },
  {
   "cell_type": "code",
   "execution_count": 10,
   "id": "d720fa39",
   "metadata": {},
   "outputs": [],
   "source": []
  },
  {
   "cell_type": "code",
   "execution_count": null,
   "id": "2c73cd18",
   "metadata": {},
   "outputs": [],
   "source": []
  }
 ],
 "metadata": {
  "kernelspec": {
   "display_name": "Python 3 (ipykernel)",
   "language": "python",
   "name": "python3"
  },
  "language_info": {
   "codemirror_mode": {
    "name": "ipython",
    "version": 3
   },
   "file_extension": ".py",
   "mimetype": "text/x-python",
   "name": "python",
   "nbconvert_exporter": "python",
   "pygments_lexer": "ipython3",
   "version": "3.9.7"
  }
 },
 "nbformat": 4,
 "nbformat_minor": 5
}
